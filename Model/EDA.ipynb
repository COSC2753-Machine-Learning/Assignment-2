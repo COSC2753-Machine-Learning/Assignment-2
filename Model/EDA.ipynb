{
 "cells": [
  {
   "cell_type": "code",
   "execution_count": 1,
   "metadata": {},
   "outputs": [],
   "source": [
    "# Import and enviromental setups\n",
    "import os, sys\n",
    "module_path = os.path.abspath(os.path.join('..'))\n",
    "if module_path not in sys.path:\n",
    "    sys.path.append(module_path)\n",
    "\n",
    "# Custom utils functions\n",
    "from utils.dataset import load\n",
    "from utils.preprocess import find_duplicates, visualize_duplicates\n",
    "from utils.plotting import create_countplot, create_k_samples\n",
    "\n",
    "# Importing libraries\n",
    "import pandas as pd\n",
    "import matplotlib.pyplot as plt\n",
    "import seaborn as sns"
   ]
  },
  {
   "cell_type": "code",
   "execution_count": null,
   "metadata": {},
   "outputs": [],
   "source": [
    "# Define Variables\n",
    "rawDataPath = \"../Data/Furniture_Data/\""
   ]
  },
  {
   "cell_type": "code",
   "execution_count": null,
   "metadata": {},
   "outputs": [],
   "source": [
    "# Load DataFrame\n",
    "furniture_dataset = load(rawDataPath)"
   ]
  },
  {
   "cell_type": "code",
   "execution_count": null,
   "metadata": {},
   "outputs": [],
   "source": [
    "furniture_dataset.describe()"
   ]
  },
  {
   "cell_type": "code",
   "execution_count": null,
   "metadata": {},
   "outputs": [],
   "source": [
    "furniture_dataset.head()"
   ]
  },
  {
   "cell_type": "code",
   "execution_count": null,
   "metadata": {},
   "outputs": [],
   "source": [
    "furniture_dataset.info()"
   ]
  },
  {
   "cell_type": "code",
   "execution_count": null,
   "metadata": {},
   "outputs": [],
   "source": [
    "furniture_dataset.sample(n = 20, random_state=43) "
   ]
  },
  {
   "cell_type": "code",
   "execution_count": null,
   "metadata": {},
   "outputs": [],
   "source": [
    "create_k_samples(rawDataPath, furniture_dataset, k=16)"
   ]
  },
  {
   "cell_type": "code",
   "execution_count": null,
   "metadata": {},
   "outputs": [],
   "source": [
    "duplicates_df = find_duplicates(furniture_dataset, rawDataPath)"
   ]
  },
  {
   "cell_type": "code",
   "execution_count": null,
   "metadata": {},
   "outputs": [],
   "source": [
    "visualize_duplicates(duplicates_df, 10)\n"
   ]
  },
  {
   "cell_type": "code",
   "execution_count": null,
   "metadata": {},
   "outputs": [],
   "source": [
    "# Length of the duplicates dataframe\n",
    "print(len(duplicates_df), \"duplicated images\")"
   ]
  },
  {
   "cell_type": "markdown",
   "metadata": {},
   "source": [
    "As we can see from the visualization above, there are almost 20,000 duplicated images in our dataset which could contribute to the noise in the dataset, not ideal for training our model."
   ]
  },
  {
   "cell_type": "code",
   "execution_count": null,
   "metadata": {},
   "outputs": [],
   "source": [
    "\n",
    "furniture_dataset.head()"
   ]
  },
  {
   "cell_type": "code",
   "execution_count": null,
   "metadata": {},
   "outputs": [],
   "source": [
    "# plotting the countplot of the furniture dataset\n",
    "\n",
    "fig, ax = plt.subplots(3, 3, figsize=(15, 15))\n",
    "\n",
    "# Create countplots for each column in the dataset\n",
    "create_countplot(furniture_dataset, 'FileType', ax[0, 0])\n",
    "create_countplot(furniture_dataset, 'Width', ax[0, 1])\n",
    "create_countplot(furniture_dataset, 'Height', ax[0, 2])\n",
    "create_countplot(furniture_dataset, 'Ratio', ax[1, 0])\n",
    "create_countplot(furniture_dataset, 'Mode', ax[1, 1])\n",
    "create_countplot(furniture_dataset, 'Bands', ax[1, 2])\n",
    "create_countplot(furniture_dataset, 'Transparency', ax[2, 0])\n",
    "create_countplot(furniture_dataset, 'Animated', ax[2, 1])\n",
    "create_countplot(furniture_dataset, 'Category', ax[2, 2])\n"
   ]
  },
  {
   "cell_type": "code",
   "execution_count": null,
   "metadata": {},
   "outputs": [],
   "source": [
    "# Countplot of interior styles\n",
    "plt.figure(figsize=(10, 6))\n",
    "sns.countplot(data=furniture_dataset, x='Interior_Style')\n",
    "plt.xticks(rotation=45)\n",
    "plt.title('Count of Furniture Categories')\n",
    "plt.show()\n"
   ]
  },
  {
   "cell_type": "code",
   "execution_count": null,
   "metadata": {},
   "outputs": [],
   "source": [
    "# EDA For each Category\n",
    "\n",
    "# Beds\n",
    "\n",
    "beds_df = furniture_dataset[furniture_dataset['Category'] == 'beds']\n",
    "\n",
    "# Plot the countplot of interior styles for beds\n",
    "plt.figure(figsize=(10, 6))\n",
    "sns.countplot(data=beds_df, x='Interior_Style')\n",
    "plt.xticks(rotation=45)\n",
    "plt.title('Count of Interior Styles for Beds')\n",
    "plt.show()\n"
   ]
  },
  {
   "cell_type": "code",
   "execution_count": null,
   "metadata": {},
   "outputs": [],
   "source": [
    "# Chairs\n",
    "\n",
    "chairs_df = furniture_dataset[furniture_dataset['Category'] == 'chairs']\n",
    "\n",
    "# Plot the countplot of interior styles for chairs\n",
    "plt.figure(figsize=(10, 6))\n",
    "sns.countplot(data=chairs_df, x='Interior_Style')\n",
    "plt.xticks(rotation=45)\n",
    "plt.title('Count of Interior Styles for Chairs')\n",
    "plt.show()"
   ]
  },
  {
   "cell_type": "code",
   "execution_count": null,
   "metadata": {},
   "outputs": [],
   "source": [
    "# Dressers\n",
    "\n",
    "dressers_df = furniture_dataset[furniture_dataset['Category'] == 'dressers']\n",
    "\n",
    "# Plot the countplot of interior styles for dressers\n",
    "plt.figure(figsize=(10, 6))\n",
    "sns.countplot(data=dressers_df, x='Interior_Style')\n",
    "plt.xticks(rotation=45)\n",
    "plt.title('Count of Interior Styles for Dressers')\n",
    "plt.show()"
   ]
  },
  {
   "cell_type": "code",
   "execution_count": null,
   "metadata": {},
   "outputs": [],
   "source": [
    "# Lamps\n",
    "\n",
    "lamps_df = furniture_dataset[furniture_dataset['Category'] == 'lamps']\n",
    "\n",
    "# Plot the countplot of interior styles for lamps\n",
    "plt.figure(figsize=(10, 6))\n",
    "sns.countplot(data=lamps_df, x='Interior_Style')\n",
    "plt.xticks(rotation=45)\n",
    "plt.title('Count of Interior Styles for Lamps')\n",
    "plt.show()"
   ]
  },
  {
   "cell_type": "code",
   "execution_count": null,
   "metadata": {},
   "outputs": [],
   "source": [
    "# Sofas\n",
    "\n",
    "sofas_df = furniture_dataset[furniture_dataset['Category'] == 'sofas']\n",
    "\n",
    "# Plot the countplot of interior styles for sofas\n",
    "plt.figure(figsize=(10, 6))\n",
    "sns.countplot(data=sofas_df, x='Interior_Style')\n",
    "plt.xticks(rotation=45)\n",
    "plt.title('Count of Interior Styles for Sofas')\n",
    "plt.show()\n"
   ]
  },
  {
   "cell_type": "code",
   "execution_count": null,
   "metadata": {},
   "outputs": [],
   "source": [
    "# Tables\n",
    "\n",
    "tables_df = furniture_dataset[furniture_dataset['Category'] == 'tables']\n",
    "\n",
    "# Plot the countplot of interior styles for tables\n",
    "plt.figure(figsize=(10, 6))\n",
    "sns.countplot(data=tables_df, x='Interior_Style')\n",
    "plt.xticks(rotation=45)\n",
    "plt.title('Count of Interior Styles for Tables')\n",
    "plt.show()"
   ]
  },
  {
   "cell_type": "code",
   "execution_count": null,
   "metadata": {},
   "outputs": [],
   "source": []
  }
 ],
 "metadata": {
  "kernelspec": {
   "display_name": "base",
   "language": "python",
   "name": "python3"
  },
  "language_info": {
   "codemirror_mode": {
    "name": "ipython",
    "version": 3
   },
   "file_extension": ".py",
   "mimetype": "text/x-python",
   "name": "python",
   "nbconvert_exporter": "python",
   "pygments_lexer": "ipython3",
   "version": "3.11.5"
  }
 },
 "nbformat": 4,
 "nbformat_minor": 2
}
